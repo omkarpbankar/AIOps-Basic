{
 "cells": [
  {
   "cell_type": "markdown",
   "id": "90c0b01d",
   "metadata": {},
   "source": [
    "1. Can you explain what an ingress network is and how it's used in Kubernetes?"
   ]
  },
  {
   "cell_type": "markdown",
   "id": "197bdd5d",
   "metadata": {},
   "source": [
    "2. How do I get a list of all the containers that are now running in Dockers?"
   ]
  },
  {
   "cell_type": "markdown",
   "id": "071bdb97",
   "metadata": {},
   "source": [
    "3. What exactly do you mean when you say \"container resource monitoring\"?"
   ]
  },
  {
   "cell_type": "markdown",
   "id": "878c8af6",
   "metadata": {},
   "source": [
    "4. How can you get rid of a container that has been stopped?"
   ]
  },
  {
   "cell_type": "markdown",
   "id": "b42ea0ab",
   "metadata": {},
   "source": [
    "5. In my Docker compose file, is it possible to use JSON instead of YAML?"
   ]
  },
  {
   "cell_type": "markdown",
   "id": "edc234ec",
   "metadata": {},
   "source": [
    "6. Is it feasible to delete the docker container that has been paused?"
   ]
  },
  {
   "cell_type": "markdown",
   "id": "36212990",
   "metadata": {},
   "source": [
    "7. Is it possible that a container can restart by itself?"
   ]
  }
 ],
 "metadata": {
  "kernelspec": {
   "display_name": "Python 3",
   "language": "python",
   "name": "python3"
  },
  "language_info": {
   "codemirror_mode": {
    "name": "ipython",
    "version": 3
   },
   "file_extension": ".py",
   "mimetype": "text/x-python",
   "name": "python",
   "nbconvert_exporter": "python",
   "pygments_lexer": "ipython3",
   "version": "3.8.12"
  }
 },
 "nbformat": 4,
 "nbformat_minor": 5
}
