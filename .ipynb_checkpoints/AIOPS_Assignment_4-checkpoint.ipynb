{
 "cells": [
  {
   "cell_type": "markdown",
   "id": "8c77ddd8",
   "metadata": {},
   "source": [
    "1. What is Docker, and why is Docker used?"
   ]
  },
  {
   "cell_type": "markdown",
   "id": "d03cb47d",
   "metadata": {},
   "source": [
    "2. Explain the Docker architecture?"
   ]
  },
  {
   "cell_type": "markdown",
   "id": "3638e2f3",
   "metadata": {},
   "source": [
    "3. What do you mean by a Dockerfile?"
   ]
  },
  {
   "cell_type": "markdown",
   "id": "da32c45a",
   "metadata": {},
   "source": [
    "4. What do you mean by Docker Images?"
   ]
  },
  {
   "cell_type": "markdown",
   "id": "1a0e53d0",
   "metadata": {},
   "source": [
    "5. What do you mean by Docker Hub?"
   ]
  },
  {
   "cell_type": "markdown",
   "id": "c284956c",
   "metadata": {},
   "source": [
    "6. Which command can be used to check Docker Client and Docker Server Version?"
   ]
  },
  {
   "cell_type": "markdown",
   "id": "59460e55",
   "metadata": {},
   "source": [
    "7. How to create a Docker container from an Image?"
   ]
  }
 ],
 "metadata": {
  "kernelspec": {
   "display_name": "Python 3",
   "language": "python",
   "name": "python3"
  },
  "language_info": {
   "codemirror_mode": {
    "name": "ipython",
    "version": 3
   },
   "file_extension": ".py",
   "mimetype": "text/x-python",
   "name": "python",
   "nbconvert_exporter": "python",
   "pygments_lexer": "ipython3",
   "version": "3.8.12"
  }
 },
 "nbformat": 4,
 "nbformat_minor": 5
}
