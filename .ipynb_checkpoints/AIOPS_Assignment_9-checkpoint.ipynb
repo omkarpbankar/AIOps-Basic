{
 "cells": [
  {
   "cell_type": "markdown",
   "id": "bf1b13ff",
   "metadata": {},
   "source": [
    "1. What is the purpose of the Pwd command in Linux?"
   ]
  },
  {
   "cell_type": "markdown",
   "id": "6b752ffa",
   "metadata": {},
   "source": [
    "2. How do you distinguish between BASH and DOS?"
   ]
  },
  {
   "cell_type": "markdown",
   "id": "f71a2eee",
   "metadata": {},
   "source": [
    "3. What are the Linux components?"
   ]
  },
  {
   "cell_type": "markdown",
   "id": "c9d062fd",
   "metadata": {},
   "source": [
    "4. What is the kernel, and what are its functions?"
   ]
  },
  {
   "cell_type": "markdown",
   "id": "bb38a007",
   "metadata": {},
   "source": [
    "5. What are any Jenkins plugins that are useful?"
   ]
  },
  {
   "cell_type": "markdown",
   "id": "cecee39e",
   "metadata": {},
   "source": [
    "6. How do you define a post in Jenkins?"
   ]
  },
  {
   "cell_type": "markdown",
   "id": "e45d7de8",
   "metadata": {},
   "source": [
    "7. In Jenkins, what are the parameters called?"
   ]
  }
 ],
 "metadata": {
  "kernelspec": {
   "display_name": "Python 3",
   "language": "python",
   "name": "python3"
  },
  "language_info": {
   "codemirror_mode": {
    "name": "ipython",
    "version": 3
   },
   "file_extension": ".py",
   "mimetype": "text/x-python",
   "name": "python",
   "nbconvert_exporter": "python",
   "pygments_lexer": "ipython3",
   "version": "3.8.12"
  }
 },
 "nbformat": 4,
 "nbformat_minor": 5
}
