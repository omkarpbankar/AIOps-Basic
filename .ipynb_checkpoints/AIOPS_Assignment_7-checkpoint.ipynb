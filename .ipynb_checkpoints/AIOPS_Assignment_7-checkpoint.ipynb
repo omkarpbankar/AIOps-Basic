{
 "cells": [
  {
   "cell_type": "markdown",
   "id": "09df2c2e",
   "metadata": {},
   "source": [
    "1. What exactly do you mean when you say, Jenkins?"
   ]
  },
  {
   "cell_type": "markdown",
   "id": "2660705e",
   "metadata": {},
   "source": [
    "2. What is the Jenkins Pipeline, and how does it work?"
   ]
  },
  {
   "cell_type": "markdown",
   "id": "f26cb786",
   "metadata": {},
   "source": [
    "3. What is Jenkins Multibranch pipelines, and how do you explain them?"
   ]
  },
  {
   "cell_type": "markdown",
   "id": "84dc6d48",
   "metadata": {},
   "source": [
    "4. How can you keep your Jenkins credentials safe?"
   ]
  },
  {
   "cell_type": "markdown",
   "id": "1835b595",
   "metadata": {},
   "source": [
    "5. What exactly does the Jenkins build clause imply?"
   ]
  },
  {
   "cell_type": "markdown",
   "id": "10719d91",
   "metadata": {},
   "source": [
    "6. What do you mean when you say Jenkins shared library, and how does that help you?"
   ]
  },
  {
   "cell_type": "markdown",
   "id": "107a2c82",
   "metadata": {},
   "source": [
    "7. What does Jenkins remote access API imply?"
   ]
  }
 ],
 "metadata": {
  "kernelspec": {
   "display_name": "Python 3",
   "language": "python",
   "name": "python3"
  },
  "language_info": {
   "codemirror_mode": {
    "name": "ipython",
    "version": 3
   },
   "file_extension": ".py",
   "mimetype": "text/x-python",
   "name": "python",
   "nbconvert_exporter": "python",
   "pygments_lexer": "ipython3",
   "version": "3.8.12"
  }
 },
 "nbformat": 4,
 "nbformat_minor": 5
}
