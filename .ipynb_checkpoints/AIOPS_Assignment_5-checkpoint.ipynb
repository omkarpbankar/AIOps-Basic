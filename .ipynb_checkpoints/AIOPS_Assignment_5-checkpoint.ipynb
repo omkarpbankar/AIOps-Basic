{
 "cells": [
  {
   "cell_type": "markdown",
   "id": "7774fa87",
   "metadata": {},
   "source": [
    "1. What exactly is Kubernetes?"
   ]
  },
  {
   "cell_type": "markdown",
   "id": "e9035da9",
   "metadata": {},
   "source": [
    "2. What do you mean by Kubernetes load balancing?"
   ]
  },
  {
   "cell_type": "markdown",
   "id": "bb7e67c3",
   "metadata": {},
   "source": [
    "3. What exactly do you mean by \"operator,\" and why do we need them?"
   ]
  },
  {
   "cell_type": "markdown",
   "id": "18dcda6a",
   "metadata": {},
   "source": [
    "4. What is the best way to operate Kubernetes locally?"
   ]
  },
  {
   "cell_type": "markdown",
   "id": "9ae44193",
   "metadata": {},
   "source": [
    "5. How can the Kubernetes Cluster be monitored?"
   ]
  },
  {
   "cell_type": "markdown",
   "id": "a2131ecb",
   "metadata": {},
   "source": [
    "6. What exactly do you mean when you say GKE?"
   ]
  },
  {
   "cell_type": "markdown",
   "id": "6178c82b",
   "metadata": {},
   "source": [
    "7. What is the difference between Kubernetes and Docker Swarm?"
   ]
  }
 ],
 "metadata": {
  "kernelspec": {
   "display_name": "Python 3",
   "language": "python",
   "name": "python3"
  },
  "language_info": {
   "codemirror_mode": {
    "name": "ipython",
    "version": 3
   },
   "file_extension": ".py",
   "mimetype": "text/x-python",
   "name": "python",
   "nbconvert_exporter": "python",
   "pygments_lexer": "ipython3",
   "version": "3.8.12"
  }
 },
 "nbformat": 4,
 "nbformat_minor": 5
}
