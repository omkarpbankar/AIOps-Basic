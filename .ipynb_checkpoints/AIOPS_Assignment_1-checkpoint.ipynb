{
 "cells": [
  {
   "cell_type": "markdown",
   "id": "b5386556",
   "metadata": {},
   "source": [
    "# 1. What is AI-ops?"
   ]
  },
  {
   "cell_type": "markdown",
   "id": "e1c2b842",
   "metadata": {},
   "source": [
    "# 2. Why do we use Ai-ops?"
   ]
  },
  {
   "cell_type": "markdown",
   "id": "326d43d0",
   "metadata": {},
   "source": [
    "# 3. What is the difference between AI-ops and ML-ops?"
   ]
  },
  {
   "cell_type": "markdown",
   "id": "8e89277b",
   "metadata": {},
   "source": [
    "# 4. What do you mean by CI-CD?"
   ]
  },
  {
   "cell_type": "markdown",
   "id": "bf34ea45",
   "metadata": {},
   "source": [
    "# 5. What do you mean by Bash?"
   ]
  },
  {
   "cell_type": "markdown",
   "id": "67ca9ec5",
   "metadata": {},
   "source": [
    "# 6. What do you mean by kernels? Explain the functions of kernels."
   ]
  },
  {
   "cell_type": "markdown",
   "id": "d7649d07",
   "metadata": {},
   "source": [
    "# 7. What are the essential elements or components of Linux?"
   ]
  }
 ],
 "metadata": {
  "kernelspec": {
   "display_name": "Python 3",
   "language": "python",
   "name": "python3"
  },
  "language_info": {
   "codemirror_mode": {
    "name": "ipython",
    "version": 3
   },
   "file_extension": ".py",
   "mimetype": "text/x-python",
   "name": "python",
   "nbconvert_exporter": "python",
   "pygments_lexer": "ipython3",
   "version": "3.8.12"
  }
 },
 "nbformat": 4,
 "nbformat_minor": 5
}
