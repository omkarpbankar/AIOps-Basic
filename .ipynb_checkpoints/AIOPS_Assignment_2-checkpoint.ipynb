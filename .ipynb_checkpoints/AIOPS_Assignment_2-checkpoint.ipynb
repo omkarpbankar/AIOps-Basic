{
 "cells": [
  {
   "cell_type": "markdown",
   "id": "3abe9db2",
   "metadata": {},
   "source": [
    "1. What is GIT and GitHub?"
   ]
  },
  {
   "cell_type": "markdown",
   "id": "0ec0624f",
   "metadata": {},
   "source": [
    "2. What is a git repository?"
   ]
  },
  {
   "cell_type": "markdown",
   "id": "a097c62a",
   "metadata": {},
   "source": [
    "3. What are the branches in GitHub?"
   ]
  },
  {
   "cell_type": "markdown",
   "id": "bea521db",
   "metadata": {},
   "source": [
    "4. What do you mean by commit?"
   ]
  },
  {
   "cell_type": "markdown",
   "id": "4d246989",
   "metadata": {},
   "source": [
    "5. What is the command used to delete a branch?"
   ]
  },
  {
   "cell_type": "markdown",
   "id": "b08eeebd",
   "metadata": {},
   "source": [
    "6. What is the git-clone command used for?"
   ]
  },
  {
   "cell_type": "markdown",
   "id": "07b21bac",
   "metadata": {},
   "source": [
    "7. What is the difference between git pull and git fetch?"
   ]
  }
 ],
 "metadata": {
  "kernelspec": {
   "display_name": "Python 3",
   "language": "python",
   "name": "python3"
  },
  "language_info": {
   "codemirror_mode": {
    "name": "ipython",
    "version": 3
   },
   "file_extension": ".py",
   "mimetype": "text/x-python",
   "name": "python",
   "nbconvert_exporter": "python",
   "pygments_lexer": "ipython3",
   "version": "3.8.12"
  }
 },
 "nbformat": 4,
 "nbformat_minor": 5
}
