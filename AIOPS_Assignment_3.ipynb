{
 "cells": [
  {
   "cell_type": "markdown",
   "id": "4a9fde00",
   "metadata": {},
   "source": [
    "1. What is DVC, and why is DVC used?"
   ]
  },
  {
   "cell_type": "markdown",
   "id": "29d9ac2b",
   "metadata": {},
   "source": [
    "2. How is DVC different from git and GitHub?"
   ]
  },
  {
   "cell_type": "markdown",
   "id": "4c95dd4c",
   "metadata": {},
   "source": [
    "3. Which command can be used to initialise a DVC project?"
   ]
  },
  {
   "cell_type": "markdown",
   "id": "2d6b73e5",
   "metadata": {},
   "source": [
    "4. In What all use cases DVC can be used?"
   ]
  },
  {
   "cell_type": "markdown",
   "id": "1374765b",
   "metadata": {},
   "source": [
    "5. Which command can be used to reproduce the entire pipeline?"
   ]
  },
  {
   "cell_type": "markdown",
   "id": "b2148445",
   "metadata": {},
   "source": [
    "6. Which DVC command can be used to check metrics?"
   ]
  },
  {
   "cell_type": "markdown",
   "id": "64a20370",
   "metadata": {},
   "source": [
    "7. Can we store a large amount of Data on GitHub? Justify."
   ]
  }
 ],
 "metadata": {
  "kernelspec": {
   "display_name": "Python 3",
   "language": "python",
   "name": "python3"
  },
  "language_info": {
   "codemirror_mode": {
    "name": "ipython",
    "version": 3
   },
   "file_extension": ".py",
   "mimetype": "text/x-python",
   "name": "python",
   "nbconvert_exporter": "python",
   "pygments_lexer": "ipython3",
   "version": "3.8.12"
  }
 },
 "nbformat": 4,
 "nbformat_minor": 5
}
