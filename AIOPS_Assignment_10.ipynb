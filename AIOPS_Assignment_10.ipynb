{
 "cells": [
  {
   "cell_type": "markdown",
   "id": "ec73b747",
   "metadata": {},
   "source": [
    "1. Is it possible to use Jenkins to clone a Git repository?"
   ]
  },
  {
   "cell_type": "markdown",
   "id": "1d221098",
   "metadata": {},
   "source": [
    "2. How do you trigger a Jenkins job?"
   ]
  },
  {
   "cell_type": "markdown",
   "id": "f2e644f4",
   "metadata": {},
   "source": [
    "3. What do you mean when you say \"blue ocean\"?"
   ]
  },
  {
   "cell_type": "markdown",
   "id": "f01028d4",
   "metadata": {},
   "source": [
    "4. How can data from multiple build steps in a Jenkins operation be shared?"
   ]
  },
  {
   "cell_type": "markdown",
   "id": "8789fc14",
   "metadata": {},
   "source": [
    "5. What is In-Process Script Approval, and how does it work?"
   ]
  },
  {
   "cell_type": "markdown",
   "id": "88a1735d",
   "metadata": {},
   "source": [
    "6. What exactly do you mean by Jenkins' Ping Thread, and how does it work?"
   ]
  },
  {
   "cell_type": "markdown",
   "id": "b53cd494",
   "metadata": {},
   "source": [
    "7. How does Jenkins’s handle user authentication?"
   ]
  }
 ],
 "metadata": {
  "kernelspec": {
   "display_name": "Python 3",
   "language": "python",
   "name": "python3"
  },
  "language_info": {
   "codemirror_mode": {
    "name": "ipython",
    "version": 3
   },
   "file_extension": ".py",
   "mimetype": "text/x-python",
   "name": "python",
   "nbconvert_exporter": "python",
   "pygments_lexer": "ipython3",
   "version": "3.8.12"
  }
 },
 "nbformat": 4,
 "nbformat_minor": 5
}
